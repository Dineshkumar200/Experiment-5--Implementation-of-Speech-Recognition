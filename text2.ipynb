{
  "nbformat": 4,
  "nbformat_minor": 0,
  "metadata": {
    "colab": {
      "provenance": []
    },
    "kernelspec": {
      "name": "python3",
      "display_name": "Python 3"
    },
    "language_info": {
      "name": "python"
    }
  },
  "cells": [
    {
      "cell_type": "code",
      "source": [
        "import speech_recognition as sr\n",
        "\n",
        "# Assign a string variable \"file\" with the name of the audio file that you want to transcribe.\n",
        "file = \"speech.wav\"\n",
        "\n",
        "# Create an instance of the Recognizer class called \"r\".\n",
        "r = sr.Recognizer()\n",
        "\n",
        "# Use the AudioFile() method of sr to create an AudioFile object with the audio file name passed as an argument.\n",
        "with sr.AudioFile(file) as source:\n",
        "    audio = r.record(source)\n",
        "\n",
        "# Use the recognize_google() method of r to transcribe the audio data stored in the \"audio\" variable.\n",
        "try:\n",
        "    text = r.recognize_google(audio)\n",
        "except sr.UnknownValueError:\n",
        "    print(\"Not clear\")\n",
        "except sr.RequestError as e:\n",
        "    print(\"Couldn't get results from Google Speech Recognition service; {0}\".format(e))\n",
        "\n",
        "# Print the text in the next lines.\n",
        "for line in text.splitlines():\n",
        "    print(line)"
      ],
      "metadata": {
        "colab": {
          "base_uri": "https://localhost:8080/"
        },
        "id": "nwz5dQAwNXFO",
        "outputId": "94947f46-34a6-4326-b635-9989fe4ac8dd"
      },
      "execution_count": 5,
      "outputs": [
        {
          "output_type": "stream",
          "name": "stdout",
          "text": [
            "in deep learning a convolutional neural network is a class of artificial neural network most commonly applied to analyze visual imagery CNN's use a mathematical operation called convolution in place of General matrix multiplication in at least one of their layers\n"
          ]
        }
      ]
    },
    {
      "cell_type": "code",
      "source": [],
      "metadata": {
        "id": "DV5kG3G5O5QR"
      },
      "execution_count": null,
      "outputs": []
    }
  ]
}